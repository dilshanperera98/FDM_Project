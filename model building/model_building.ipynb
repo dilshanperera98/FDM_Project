{
 "cells": [
  {
   "cell_type": "code",
   "execution_count": 62,
   "id": "34bbb1f3",
   "metadata": {},
   "outputs": [
    {
     "name": "stdout",
     "output_type": "stream",
     "text": [
      "Requirement already satisfied: numpy in c:\\users\\user\\desktop\\mini project\\model\\env\\lib\\site-packages (1.23.4)\n",
      "Requirement already satisfied: pandas in c:\\users\\user\\desktop\\mini project\\model\\env\\lib\\site-packages (1.5.1)\n",
      "Requirement already satisfied: numpy>=1.21.0 in c:\\users\\user\\desktop\\mini project\\model\\env\\lib\\site-packages (from pandas) (1.23.4)\n",
      "Requirement already satisfied: python-dateutil>=2.8.1 in c:\\users\\user\\desktop\\mini project\\model\\env\\lib\\site-packages (from pandas) (2.8.2)\n",
      "Requirement already satisfied: pytz>=2020.1 in c:\\users\\user\\desktop\\mini project\\model\\env\\lib\\site-packages (from pandas) (2022.5)\n",
      "Requirement already satisfied: six>=1.5 in c:\\users\\user\\desktop\\mini project\\model\\env\\lib\\site-packages (from python-dateutil>=2.8.1->pandas) (1.16.0)\n"
     ]
    }
   ],
   "source": [
    "!pip install numpy\n",
    "!pip install pandas"
   ]
  },
  {
   "cell_type": "code",
   "execution_count": 63,
   "id": "f552173d",
   "metadata": {},
   "outputs": [],
   "source": [
    "import numpy as np\n",
    "import pandas as pd"
   ]
  },
  {
   "cell_type": "markdown",
   "id": "98d9bca8",
   "metadata": {},
   "source": [
    "# Data Analysis"
   ]
  },
  {
   "cell_type": "code",
   "execution_count": 64,
   "id": "3ec1cf23",
   "metadata": {},
   "outputs": [],
   "source": [
    "data = pd.read_csv('laptop_price.csv', encoding='latin-1')"
   ]
  },
  {
   "cell_type": "code",
   "execution_count": 65,
   "id": "011fed74",
   "metadata": {},
   "outputs": [
    {
     "data": {
      "text/html": [
       "<div>\n",
       "<style scoped>\n",
       "    .dataframe tbody tr th:only-of-type {\n",
       "        vertical-align: middle;\n",
       "    }\n",
       "\n",
       "    .dataframe tbody tr th {\n",
       "        vertical-align: top;\n",
       "    }\n",
       "\n",
       "    .dataframe thead th {\n",
       "        text-align: right;\n",
       "    }\n",
       "</style>\n",
       "<table border=\"1\" class=\"dataframe\">\n",
       "  <thead>\n",
       "    <tr style=\"text-align: right;\">\n",
       "      <th></th>\n",
       "      <th>laptop_ID</th>\n",
       "      <th>Company</th>\n",
       "      <th>Product</th>\n",
       "      <th>TypeName</th>\n",
       "      <th>Inches</th>\n",
       "      <th>ScreenResolution</th>\n",
       "      <th>Cpu</th>\n",
       "      <th>Ram</th>\n",
       "      <th>Memory</th>\n",
       "      <th>Gpu</th>\n",
       "      <th>OpSys</th>\n",
       "      <th>Weight</th>\n",
       "      <th>Price_euros</th>\n",
       "    </tr>\n",
       "  </thead>\n",
       "  <tbody>\n",
       "    <tr>\n",
       "      <th>0</th>\n",
       "      <td>1</td>\n",
       "      <td>Apple</td>\n",
       "      <td>MacBook Pro</td>\n",
       "      <td>Ultrabook</td>\n",
       "      <td>13.3</td>\n",
       "      <td>IPS Panel Retina Display 2560x1600</td>\n",
       "      <td>Intel Core i5 2.3GHz</td>\n",
       "      <td>8GB</td>\n",
       "      <td>128GB SSD</td>\n",
       "      <td>Intel Iris Plus Graphics 640</td>\n",
       "      <td>macOS</td>\n",
       "      <td>1.37kg</td>\n",
       "      <td>1339.69</td>\n",
       "    </tr>\n",
       "    <tr>\n",
       "      <th>1</th>\n",
       "      <td>2</td>\n",
       "      <td>Apple</td>\n",
       "      <td>Macbook Air</td>\n",
       "      <td>Ultrabook</td>\n",
       "      <td>13.3</td>\n",
       "      <td>1440x900</td>\n",
       "      <td>Intel Core i5 1.8GHz</td>\n",
       "      <td>8GB</td>\n",
       "      <td>128GB Flash Storage</td>\n",
       "      <td>Intel HD Graphics 6000</td>\n",
       "      <td>macOS</td>\n",
       "      <td>1.34kg</td>\n",
       "      <td>898.94</td>\n",
       "    </tr>\n",
       "    <tr>\n",
       "      <th>2</th>\n",
       "      <td>3</td>\n",
       "      <td>HP</td>\n",
       "      <td>250 G6</td>\n",
       "      <td>Notebook</td>\n",
       "      <td>15.6</td>\n",
       "      <td>Full HD 1920x1080</td>\n",
       "      <td>Intel Core i5 7200U 2.5GHz</td>\n",
       "      <td>8GB</td>\n",
       "      <td>256GB SSD</td>\n",
       "      <td>Intel HD Graphics 620</td>\n",
       "      <td>No OS</td>\n",
       "      <td>1.86kg</td>\n",
       "      <td>575.00</td>\n",
       "    </tr>\n",
       "    <tr>\n",
       "      <th>3</th>\n",
       "      <td>4</td>\n",
       "      <td>Apple</td>\n",
       "      <td>MacBook Pro</td>\n",
       "      <td>Ultrabook</td>\n",
       "      <td>15.4</td>\n",
       "      <td>IPS Panel Retina Display 2880x1800</td>\n",
       "      <td>Intel Core i7 2.7GHz</td>\n",
       "      <td>16GB</td>\n",
       "      <td>512GB SSD</td>\n",
       "      <td>AMD Radeon Pro 455</td>\n",
       "      <td>macOS</td>\n",
       "      <td>1.83kg</td>\n",
       "      <td>2537.45</td>\n",
       "    </tr>\n",
       "    <tr>\n",
       "      <th>4</th>\n",
       "      <td>5</td>\n",
       "      <td>Apple</td>\n",
       "      <td>MacBook Pro</td>\n",
       "      <td>Ultrabook</td>\n",
       "      <td>13.3</td>\n",
       "      <td>IPS Panel Retina Display 2560x1600</td>\n",
       "      <td>Intel Core i5 3.1GHz</td>\n",
       "      <td>8GB</td>\n",
       "      <td>256GB SSD</td>\n",
       "      <td>Intel Iris Plus Graphics 650</td>\n",
       "      <td>macOS</td>\n",
       "      <td>1.37kg</td>\n",
       "      <td>1803.60</td>\n",
       "    </tr>\n",
       "  </tbody>\n",
       "</table>\n",
       "</div>"
      ],
      "text/plain": [
       "   laptop_ID Company      Product   TypeName  Inches  \\\n",
       "0          1   Apple  MacBook Pro  Ultrabook    13.3   \n",
       "1          2   Apple  Macbook Air  Ultrabook    13.3   \n",
       "2          3      HP       250 G6   Notebook    15.6   \n",
       "3          4   Apple  MacBook Pro  Ultrabook    15.4   \n",
       "4          5   Apple  MacBook Pro  Ultrabook    13.3   \n",
       "\n",
       "                     ScreenResolution                         Cpu   Ram  \\\n",
       "0  IPS Panel Retina Display 2560x1600        Intel Core i5 2.3GHz   8GB   \n",
       "1                            1440x900        Intel Core i5 1.8GHz   8GB   \n",
       "2                   Full HD 1920x1080  Intel Core i5 7200U 2.5GHz   8GB   \n",
       "3  IPS Panel Retina Display 2880x1800        Intel Core i7 2.7GHz  16GB   \n",
       "4  IPS Panel Retina Display 2560x1600        Intel Core i5 3.1GHz   8GB   \n",
       "\n",
       "                Memory                           Gpu  OpSys  Weight  \\\n",
       "0            128GB SSD  Intel Iris Plus Graphics 640  macOS  1.37kg   \n",
       "1  128GB Flash Storage        Intel HD Graphics 6000  macOS  1.34kg   \n",
       "2            256GB SSD         Intel HD Graphics 620  No OS  1.86kg   \n",
       "3            512GB SSD            AMD Radeon Pro 455  macOS  1.83kg   \n",
       "4            256GB SSD  Intel Iris Plus Graphics 650  macOS  1.37kg   \n",
       "\n",
       "   Price_euros  \n",
       "0      1339.69  \n",
       "1       898.94  \n",
       "2       575.00  \n",
       "3      2537.45  \n",
       "4      1803.60  "
      ]
     },
     "execution_count": 65,
     "metadata": {},
     "output_type": "execute_result"
    }
   ],
   "source": [
    "#show data set\n",
    "data.head()"
   ]
  },
  {
   "cell_type": "code",
   "execution_count": 67,
   "id": "1391369e",
   "metadata": {},
   "outputs": [
    {
     "data": {
      "text/html": [
       "<div>\n",
       "<style scoped>\n",
       "    .dataframe tbody tr th:only-of-type {\n",
       "        vertical-align: middle;\n",
       "    }\n",
       "\n",
       "    .dataframe tbody tr th {\n",
       "        vertical-align: top;\n",
       "    }\n",
       "\n",
       "    .dataframe thead th {\n",
       "        text-align: right;\n",
       "    }\n",
       "</style>\n",
       "<table border=\"1\" class=\"dataframe\">\n",
       "  <thead>\n",
       "    <tr style=\"text-align: right;\">\n",
       "      <th></th>\n",
       "      <th>laptop_ID</th>\n",
       "      <th>Company</th>\n",
       "      <th>Product</th>\n",
       "      <th>TypeName</th>\n",
       "      <th>Inches</th>\n",
       "      <th>ScreenResolution</th>\n",
       "      <th>Cpu</th>\n",
       "      <th>Ram</th>\n",
       "      <th>Memory</th>\n",
       "      <th>Gpu</th>\n",
       "      <th>OpSys</th>\n",
       "      <th>Weight</th>\n",
       "      <th>Price_euros</th>\n",
       "    </tr>\n",
       "  </thead>\n",
       "  <tbody>\n",
       "    <tr>\n",
       "      <th>0</th>\n",
       "      <td>False</td>\n",
       "      <td>False</td>\n",
       "      <td>False</td>\n",
       "      <td>False</td>\n",
       "      <td>False</td>\n",
       "      <td>False</td>\n",
       "      <td>False</td>\n",
       "      <td>False</td>\n",
       "      <td>False</td>\n",
       "      <td>False</td>\n",
       "      <td>False</td>\n",
       "      <td>False</td>\n",
       "      <td>False</td>\n",
       "    </tr>\n",
       "    <tr>\n",
       "      <th>1</th>\n",
       "      <td>False</td>\n",
       "      <td>False</td>\n",
       "      <td>False</td>\n",
       "      <td>False</td>\n",
       "      <td>False</td>\n",
       "      <td>False</td>\n",
       "      <td>False</td>\n",
       "      <td>False</td>\n",
       "      <td>False</td>\n",
       "      <td>False</td>\n",
       "      <td>False</td>\n",
       "      <td>False</td>\n",
       "      <td>False</td>\n",
       "    </tr>\n",
       "    <tr>\n",
       "      <th>2</th>\n",
       "      <td>False</td>\n",
       "      <td>False</td>\n",
       "      <td>False</td>\n",
       "      <td>False</td>\n",
       "      <td>False</td>\n",
       "      <td>False</td>\n",
       "      <td>False</td>\n",
       "      <td>False</td>\n",
       "      <td>False</td>\n",
       "      <td>False</td>\n",
       "      <td>False</td>\n",
       "      <td>False</td>\n",
       "      <td>False</td>\n",
       "    </tr>\n",
       "    <tr>\n",
       "      <th>3</th>\n",
       "      <td>False</td>\n",
       "      <td>False</td>\n",
       "      <td>False</td>\n",
       "      <td>False</td>\n",
       "      <td>False</td>\n",
       "      <td>False</td>\n",
       "      <td>False</td>\n",
       "      <td>False</td>\n",
       "      <td>False</td>\n",
       "      <td>False</td>\n",
       "      <td>False</td>\n",
       "      <td>False</td>\n",
       "      <td>False</td>\n",
       "    </tr>\n",
       "    <tr>\n",
       "      <th>4</th>\n",
       "      <td>False</td>\n",
       "      <td>False</td>\n",
       "      <td>False</td>\n",
       "      <td>False</td>\n",
       "      <td>False</td>\n",
       "      <td>False</td>\n",
       "      <td>False</td>\n",
       "      <td>False</td>\n",
       "      <td>False</td>\n",
       "      <td>False</td>\n",
       "      <td>False</td>\n",
       "      <td>False</td>\n",
       "      <td>False</td>\n",
       "    </tr>\n",
       "    <tr>\n",
       "      <th>...</th>\n",
       "      <td>...</td>\n",
       "      <td>...</td>\n",
       "      <td>...</td>\n",
       "      <td>...</td>\n",
       "      <td>...</td>\n",
       "      <td>...</td>\n",
       "      <td>...</td>\n",
       "      <td>...</td>\n",
       "      <td>...</td>\n",
       "      <td>...</td>\n",
       "      <td>...</td>\n",
       "      <td>...</td>\n",
       "      <td>...</td>\n",
       "    </tr>\n",
       "    <tr>\n",
       "      <th>1298</th>\n",
       "      <td>False</td>\n",
       "      <td>False</td>\n",
       "      <td>False</td>\n",
       "      <td>False</td>\n",
       "      <td>False</td>\n",
       "      <td>False</td>\n",
       "      <td>False</td>\n",
       "      <td>False</td>\n",
       "      <td>False</td>\n",
       "      <td>False</td>\n",
       "      <td>False</td>\n",
       "      <td>False</td>\n",
       "      <td>False</td>\n",
       "    </tr>\n",
       "    <tr>\n",
       "      <th>1299</th>\n",
       "      <td>False</td>\n",
       "      <td>False</td>\n",
       "      <td>False</td>\n",
       "      <td>False</td>\n",
       "      <td>False</td>\n",
       "      <td>False</td>\n",
       "      <td>False</td>\n",
       "      <td>False</td>\n",
       "      <td>False</td>\n",
       "      <td>False</td>\n",
       "      <td>False</td>\n",
       "      <td>False</td>\n",
       "      <td>False</td>\n",
       "    </tr>\n",
       "    <tr>\n",
       "      <th>1300</th>\n",
       "      <td>False</td>\n",
       "      <td>False</td>\n",
       "      <td>False</td>\n",
       "      <td>False</td>\n",
       "      <td>False</td>\n",
       "      <td>False</td>\n",
       "      <td>False</td>\n",
       "      <td>False</td>\n",
       "      <td>False</td>\n",
       "      <td>False</td>\n",
       "      <td>False</td>\n",
       "      <td>False</td>\n",
       "      <td>False</td>\n",
       "    </tr>\n",
       "    <tr>\n",
       "      <th>1301</th>\n",
       "      <td>False</td>\n",
       "      <td>False</td>\n",
       "      <td>False</td>\n",
       "      <td>False</td>\n",
       "      <td>False</td>\n",
       "      <td>False</td>\n",
       "      <td>False</td>\n",
       "      <td>False</td>\n",
       "      <td>False</td>\n",
       "      <td>False</td>\n",
       "      <td>False</td>\n",
       "      <td>False</td>\n",
       "      <td>False</td>\n",
       "    </tr>\n",
       "    <tr>\n",
       "      <th>1302</th>\n",
       "      <td>False</td>\n",
       "      <td>False</td>\n",
       "      <td>False</td>\n",
       "      <td>False</td>\n",
       "      <td>False</td>\n",
       "      <td>False</td>\n",
       "      <td>False</td>\n",
       "      <td>False</td>\n",
       "      <td>False</td>\n",
       "      <td>False</td>\n",
       "      <td>False</td>\n",
       "      <td>False</td>\n",
       "      <td>False</td>\n",
       "    </tr>\n",
       "  </tbody>\n",
       "</table>\n",
       "<p>1303 rows × 13 columns</p>\n",
       "</div>"
      ],
      "text/plain": [
       "      laptop_ID  Company  Product  TypeName  Inches  ScreenResolution    Cpu  \\\n",
       "0         False    False    False     False   False             False  False   \n",
       "1         False    False    False     False   False             False  False   \n",
       "2         False    False    False     False   False             False  False   \n",
       "3         False    False    False     False   False             False  False   \n",
       "4         False    False    False     False   False             False  False   \n",
       "...         ...      ...      ...       ...     ...               ...    ...   \n",
       "1298      False    False    False     False   False             False  False   \n",
       "1299      False    False    False     False   False             False  False   \n",
       "1300      False    False    False     False   False             False  False   \n",
       "1301      False    False    False     False   False             False  False   \n",
       "1302      False    False    False     False   False             False  False   \n",
       "\n",
       "        Ram  Memory    Gpu  OpSys  Weight  Price_euros  \n",
       "0     False   False  False  False   False        False  \n",
       "1     False   False  False  False   False        False  \n",
       "2     False   False  False  False   False        False  \n",
       "3     False   False  False  False   False        False  \n",
       "4     False   False  False  False   False        False  \n",
       "...     ...     ...    ...    ...     ...          ...  \n",
       "1298  False   False  False  False   False        False  \n",
       "1299  False   False  False  False   False        False  \n",
       "1300  False   False  False  False   False        False  \n",
       "1301  False   False  False  False   False        False  \n",
       "1302  False   False  False  False   False        False  \n",
       "\n",
       "[1303 rows x 13 columns]"
      ]
     },
     "execution_count": 67,
     "metadata": {},
     "output_type": "execute_result"
    }
   ],
   "source": [
    "#check null values\n",
    "data.isnull()"
   ]
  },
  {
   "cell_type": "code",
   "execution_count": 66,
   "id": "e1277891",
   "metadata": {},
   "outputs": [
    {
     "data": {
      "text/plain": [
       "(1303, 13)"
      ]
     },
     "execution_count": 66,
     "metadata": {},
     "output_type": "execute_result"
    }
   ],
   "source": [
    "#calculate how many rows and columns\n",
    "data.shape"
   ]
  },
  {
   "cell_type": "code",
   "execution_count": 68,
   "id": "ef452d68",
   "metadata": {},
   "outputs": [
    {
     "data": {
      "text/plain": [
       "laptop_ID           0\n",
       "Company             0\n",
       "Product             0\n",
       "TypeName            0\n",
       "Inches              0\n",
       "ScreenResolution    0\n",
       "Cpu                 0\n",
       "Ram                 0\n",
       "Memory              0\n",
       "Gpu                 0\n",
       "OpSys               0\n",
       "Weight              0\n",
       "Price_euros         0\n",
       "dtype: int64"
      ]
     },
     "execution_count": 68,
     "metadata": {},
     "output_type": "execute_result"
    }
   ],
   "source": [
    "#get summation of null values\n",
    "data.isnull().sum()"
   ]
  },
  {
   "cell_type": "code",
   "execution_count": 69,
   "id": "5f3dc516",
   "metadata": {},
   "outputs": [
    {
     "name": "stdout",
     "output_type": "stream",
     "text": [
      "<class 'pandas.core.frame.DataFrame'>\n",
      "RangeIndex: 1303 entries, 0 to 1302\n",
      "Data columns (total 13 columns):\n",
      " #   Column            Non-Null Count  Dtype  \n",
      "---  ------            --------------  -----  \n",
      " 0   laptop_ID         1303 non-null   int64  \n",
      " 1   Company           1303 non-null   object \n",
      " 2   Product           1303 non-null   object \n",
      " 3   TypeName          1303 non-null   object \n",
      " 4   Inches            1303 non-null   float64\n",
      " 5   ScreenResolution  1303 non-null   object \n",
      " 6   Cpu               1303 non-null   object \n",
      " 7   Ram               1303 non-null   object \n",
      " 8   Memory            1303 non-null   object \n",
      " 9   Gpu               1303 non-null   object \n",
      " 10  OpSys             1303 non-null   object \n",
      " 11  Weight            1303 non-null   object \n",
      " 12  Price_euros       1303 non-null   float64\n",
      "dtypes: float64(2), int64(1), object(10)\n",
      "memory usage: 132.5+ KB\n"
     ]
    }
   ],
   "source": [
    "#further information about data set\n",
    "data.info()"
   ]
  },
  {
   "cell_type": "code",
   "execution_count": 70,
   "id": "27241405",
   "metadata": {},
   "outputs": [],
   "source": [
    "#changing Ram and Weight columns from objects to numericals \n",
    "data['Ram'] = data['Ram'].str.replace('GB','').astype('int32')\n",
    "data['Weight'] = data['Weight'].str.replace('kg','').astype('float32')"
   ]
  },
  {
   "cell_type": "code",
   "execution_count": 71,
   "id": "445fc548",
   "metadata": {},
   "outputs": [
    {
     "data": {
      "text/html": [
       "<div>\n",
       "<style scoped>\n",
       "    .dataframe tbody tr th:only-of-type {\n",
       "        vertical-align: middle;\n",
       "    }\n",
       "\n",
       "    .dataframe tbody tr th {\n",
       "        vertical-align: top;\n",
       "    }\n",
       "\n",
       "    .dataframe thead th {\n",
       "        text-align: right;\n",
       "    }\n",
       "</style>\n",
       "<table border=\"1\" class=\"dataframe\">\n",
       "  <thead>\n",
       "    <tr style=\"text-align: right;\">\n",
       "      <th></th>\n",
       "      <th>laptop_ID</th>\n",
       "      <th>Company</th>\n",
       "      <th>Product</th>\n",
       "      <th>TypeName</th>\n",
       "      <th>Inches</th>\n",
       "      <th>ScreenResolution</th>\n",
       "      <th>Cpu</th>\n",
       "      <th>Ram</th>\n",
       "      <th>Memory</th>\n",
       "      <th>Gpu</th>\n",
       "      <th>OpSys</th>\n",
       "      <th>Weight</th>\n",
       "      <th>Price_euros</th>\n",
       "    </tr>\n",
       "  </thead>\n",
       "  <tbody>\n",
       "    <tr>\n",
       "      <th>0</th>\n",
       "      <td>1</td>\n",
       "      <td>Apple</td>\n",
       "      <td>MacBook Pro</td>\n",
       "      <td>Ultrabook</td>\n",
       "      <td>13.3</td>\n",
       "      <td>IPS Panel Retina Display 2560x1600</td>\n",
       "      <td>Intel Core i5 2.3GHz</td>\n",
       "      <td>8</td>\n",
       "      <td>128GB SSD</td>\n",
       "      <td>Intel Iris Plus Graphics 640</td>\n",
       "      <td>macOS</td>\n",
       "      <td>1.37</td>\n",
       "      <td>1339.69</td>\n",
       "    </tr>\n",
       "    <tr>\n",
       "      <th>1</th>\n",
       "      <td>2</td>\n",
       "      <td>Apple</td>\n",
       "      <td>Macbook Air</td>\n",
       "      <td>Ultrabook</td>\n",
       "      <td>13.3</td>\n",
       "      <td>1440x900</td>\n",
       "      <td>Intel Core i5 1.8GHz</td>\n",
       "      <td>8</td>\n",
       "      <td>128GB Flash Storage</td>\n",
       "      <td>Intel HD Graphics 6000</td>\n",
       "      <td>macOS</td>\n",
       "      <td>1.34</td>\n",
       "      <td>898.94</td>\n",
       "    </tr>\n",
       "  </tbody>\n",
       "</table>\n",
       "</div>"
      ],
      "text/plain": [
       "   laptop_ID Company      Product   TypeName  Inches  \\\n",
       "0          1   Apple  MacBook Pro  Ultrabook    13.3   \n",
       "1          2   Apple  Macbook Air  Ultrabook    13.3   \n",
       "\n",
       "                     ScreenResolution                   Cpu  Ram  \\\n",
       "0  IPS Panel Retina Display 2560x1600  Intel Core i5 2.3GHz    8   \n",
       "1                            1440x900  Intel Core i5 1.8GHz    8   \n",
       "\n",
       "                Memory                           Gpu  OpSys  Weight  \\\n",
       "0            128GB SSD  Intel Iris Plus Graphics 640  macOS    1.37   \n",
       "1  128GB Flash Storage        Intel HD Graphics 6000  macOS    1.34   \n",
       "\n",
       "   Price_euros  \n",
       "0      1339.69  \n",
       "1       898.94  "
      ]
     },
     "execution_count": 71,
     "metadata": {},
     "output_type": "execute_result"
    }
   ],
   "source": [
    "#show data ste\n",
    "data.head(2)"
   ]
  },
  {
   "cell_type": "code",
   "execution_count": 72,
   "id": "56e6212b",
   "metadata": {},
   "outputs": [
    {
     "name": "stderr",
     "output_type": "stream",
     "text": [
      "C:\\Users\\User\\AppData\\Local\\Temp\\ipykernel_11564\\1325363484.py:2: FutureWarning: The default value of numeric_only in DataFrame.corr is deprecated. In a future version, it will default to False. Select only valid columns or specify the value of numeric_only to silence this warning.\n",
      "  data.corr()['Price_euros']\n"
     ]
    },
    {
     "data": {
      "text/plain": [
       "laptop_ID      0.067830\n",
       "Inches         0.068197\n",
       "Ram            0.743007\n",
       "Weight         0.210370\n",
       "Price_euros    1.000000\n",
       "Name: Price_euros, dtype: float64"
      ]
     },
     "execution_count": 72,
     "metadata": {},
     "output_type": "execute_result"
    }
   ],
   "source": [
    "#find more related columns to the price_euros\n",
    "data.corr()['Price_euros']"
   ]
  },
  {
   "cell_type": "markdown",
   "id": "c5a773fc",
   "metadata": {},
   "source": [
    "# Company Column"
   ]
  },
  {
   "cell_type": "code",
   "execution_count": 73,
   "id": "afbaacba",
   "metadata": {},
   "outputs": [
    {
     "data": {
      "text/plain": [
       "Dell         297\n",
       "Lenovo       297\n",
       "HP           274\n",
       "Asus         158\n",
       "Acer         103\n",
       "MSI           54\n",
       "Toshiba       48\n",
       "Apple         21\n",
       "Samsung        9\n",
       "Razer          7\n",
       "Mediacom       7\n",
       "Microsoft      6\n",
       "Xiaomi         4\n",
       "Vero           4\n",
       "Chuwi          3\n",
       "Google         3\n",
       "Fujitsu        3\n",
       "LG             3\n",
       "Huawei         2\n",
       "Name: Company, dtype: int64"
      ]
     },
     "execution_count": 73,
     "metadata": {},
     "output_type": "execute_result"
    }
   ],
   "source": [
    "#getting count of the items of the column \n",
    "data['Company'].value_counts()"
   ]
  },
  {
   "cell_type": "code",
   "execution_count": 74,
   "id": "b58a98a7",
   "metadata": {},
   "outputs": [],
   "source": [
    "#to minimize the catogories and crete one column for all companies that count below 10\n",
    "def add_company(inpt):\n",
    "    if inpt == 'Samsung' or inpt == 'Razer' or inpt == 'Mediacom' or inpt == 'Microsoft'or inpt == 'Xiaomi'or inpt == 'Vero'or inpt == 'Chuwi'or inpt == 'Google'or inpt == 'Fujitsu'or inpt == 'LG'or inpt == 'Huawei':\n",
    "        return 'Other'\n",
    "    else:\n",
    "        return inpt\n",
    "    \n",
    "\n",
    "data['Company'] = data['Company'].apply(add_company)\n",
    "    "
   ]
  },
  {
   "cell_type": "markdown",
   "id": "c3eeb6b1",
   "metadata": {},
   "source": [
    "# Product Column"
   ]
  },
  {
   "cell_type": "code",
   "execution_count": 75,
   "id": "5f310dd4",
   "metadata": {},
   "outputs": [
    {
     "data": {
      "text/plain": [
       "618"
      ]
     },
     "execution_count": 75,
     "metadata": {},
     "output_type": "execute_result"
    }
   ],
   "source": [
    "#getting length of the items of the column \n",
    "len(data['Product'].value_counts())"
   ]
  },
  {
   "cell_type": "markdown",
   "id": "5f937e38",
   "metadata": {},
   "source": [
    "# TypeName Column"
   ]
  },
  {
   "cell_type": "code",
   "execution_count": 76,
   "id": "da749eb6",
   "metadata": {},
   "outputs": [
    {
     "data": {
      "text/plain": [
       "Notebook              727\n",
       "Gaming                205\n",
       "Ultrabook             196\n",
       "2 in 1 Convertible    121\n",
       "Workstation            29\n",
       "Netbook                25\n",
       "Name: TypeName, dtype: int64"
      ]
     },
     "execution_count": 76,
     "metadata": {},
     "output_type": "execute_result"
    }
   ],
   "source": [
    "data['TypeName'].value_counts()"
   ]
  },
  {
   "cell_type": "markdown",
   "id": "e2433e4b",
   "metadata": {},
   "source": [
    "# ScreenResolution Column"
   ]
  },
  {
   "cell_type": "code",
   "execution_count": 77,
   "id": "58b06d2f",
   "metadata": {},
   "outputs": [
    {
     "data": {
      "text/plain": [
       "Full HD 1920x1080                                507\n",
       "1366x768                                         281\n",
       "IPS Panel Full HD 1920x1080                      230\n",
       "IPS Panel Full HD / Touchscreen 1920x1080         53\n",
       "Full HD / Touchscreen 1920x1080                   47\n",
       "1600x900                                          23\n",
       "Touchscreen 1366x768                              16\n",
       "Quad HD+ / Touchscreen 3200x1800                  15\n",
       "IPS Panel 4K Ultra HD 3840x2160                   12\n",
       "IPS Panel 4K Ultra HD / Touchscreen 3840x2160     11\n",
       "4K Ultra HD / Touchscreen 3840x2160               10\n",
       "4K Ultra HD 3840x2160                              7\n",
       "Touchscreen 2560x1440                              7\n",
       "IPS Panel 1366x768                                 7\n",
       "IPS Panel Quad HD+ / Touchscreen 3200x1800         6\n",
       "IPS Panel Retina Display 2560x1600                 6\n",
       "IPS Panel Retina Display 2304x1440                 6\n",
       "Touchscreen 2256x1504                              6\n",
       "IPS Panel Touchscreen 2560x1440                    5\n",
       "IPS Panel Retina Display 2880x1800                 4\n",
       "IPS Panel Touchscreen 1920x1200                    4\n",
       "1440x900                                           4\n",
       "IPS Panel 2560x1440                                4\n",
       "IPS Panel Quad HD+ 2560x1440                       3\n",
       "Quad HD+ 3200x1800                                 3\n",
       "1920x1080                                          3\n",
       "Touchscreen 2400x1600                              3\n",
       "2560x1440                                          3\n",
       "IPS Panel Touchscreen 1366x768                     3\n",
       "IPS Panel Touchscreen / 4K Ultra HD 3840x2160      2\n",
       "IPS Panel Full HD 2160x1440                        2\n",
       "IPS Panel Quad HD+ 3200x1800                       2\n",
       "IPS Panel Retina Display 2736x1824                 1\n",
       "IPS Panel Full HD 1920x1200                        1\n",
       "IPS Panel Full HD 2560x1440                        1\n",
       "IPS Panel Full HD 1366x768                         1\n",
       "Touchscreen / Full HD 1920x1080                    1\n",
       "Touchscreen / Quad HD+ 3200x1800                   1\n",
       "Touchscreen / 4K Ultra HD 3840x2160                1\n",
       "IPS Panel Touchscreen 2400x1600                    1\n",
       "Name: ScreenResolution, dtype: int64"
      ]
     },
     "execution_count": 77,
     "metadata": {},
     "output_type": "execute_result"
    }
   ],
   "source": [
    "#get count\n",
    "data['ScreenResolution'].value_counts()"
   ]
  },
  {
   "cell_type": "code",
   "execution_count": 78,
   "id": "12c71b66",
   "metadata": {},
   "outputs": [],
   "source": [
    "#extract some informations from screenResolution column\n",
    "data['Touchscreen'] = data['ScreenResolution'].apply(lambda x:1 if 'Touchscreen' in x else 0)\n",
    "data['Ips'] = data['ScreenResolution'].apply(lambda x:1 if 'IPS' in x else 0)"
   ]
  },
  {
   "cell_type": "code",
   "execution_count": 79,
   "id": "5351fb14",
   "metadata": {},
   "outputs": [
    {
     "data": {
      "text/html": [
       "<div>\n",
       "<style scoped>\n",
       "    .dataframe tbody tr th:only-of-type {\n",
       "        vertical-align: middle;\n",
       "    }\n",
       "\n",
       "    .dataframe tbody tr th {\n",
       "        vertical-align: top;\n",
       "    }\n",
       "\n",
       "    .dataframe thead th {\n",
       "        text-align: right;\n",
       "    }\n",
       "</style>\n",
       "<table border=\"1\" class=\"dataframe\">\n",
       "  <thead>\n",
       "    <tr style=\"text-align: right;\">\n",
       "      <th></th>\n",
       "      <th>laptop_ID</th>\n",
       "      <th>Company</th>\n",
       "      <th>Product</th>\n",
       "      <th>TypeName</th>\n",
       "      <th>Inches</th>\n",
       "      <th>ScreenResolution</th>\n",
       "      <th>Cpu</th>\n",
       "      <th>Ram</th>\n",
       "      <th>Memory</th>\n",
       "      <th>Gpu</th>\n",
       "      <th>OpSys</th>\n",
       "      <th>Weight</th>\n",
       "      <th>Price_euros</th>\n",
       "      <th>Touchscreen</th>\n",
       "      <th>Ips</th>\n",
       "    </tr>\n",
       "  </thead>\n",
       "  <tbody>\n",
       "    <tr>\n",
       "      <th>0</th>\n",
       "      <td>1</td>\n",
       "      <td>Apple</td>\n",
       "      <td>MacBook Pro</td>\n",
       "      <td>Ultrabook</td>\n",
       "      <td>13.3</td>\n",
       "      <td>IPS Panel Retina Display 2560x1600</td>\n",
       "      <td>Intel Core i5 2.3GHz</td>\n",
       "      <td>8</td>\n",
       "      <td>128GB SSD</td>\n",
       "      <td>Intel Iris Plus Graphics 640</td>\n",
       "      <td>macOS</td>\n",
       "      <td>1.37</td>\n",
       "      <td>1339.69</td>\n",
       "      <td>0</td>\n",
       "      <td>1</td>\n",
       "    </tr>\n",
       "    <tr>\n",
       "      <th>1</th>\n",
       "      <td>2</td>\n",
       "      <td>Apple</td>\n",
       "      <td>Macbook Air</td>\n",
       "      <td>Ultrabook</td>\n",
       "      <td>13.3</td>\n",
       "      <td>1440x900</td>\n",
       "      <td>Intel Core i5 1.8GHz</td>\n",
       "      <td>8</td>\n",
       "      <td>128GB Flash Storage</td>\n",
       "      <td>Intel HD Graphics 6000</td>\n",
       "      <td>macOS</td>\n",
       "      <td>1.34</td>\n",
       "      <td>898.94</td>\n",
       "      <td>0</td>\n",
       "      <td>0</td>\n",
       "    </tr>\n",
       "  </tbody>\n",
       "</table>\n",
       "</div>"
      ],
      "text/plain": [
       "   laptop_ID Company      Product   TypeName  Inches  \\\n",
       "0          1   Apple  MacBook Pro  Ultrabook    13.3   \n",
       "1          2   Apple  Macbook Air  Ultrabook    13.3   \n",
       "\n",
       "                     ScreenResolution                   Cpu  Ram  \\\n",
       "0  IPS Panel Retina Display 2560x1600  Intel Core i5 2.3GHz    8   \n",
       "1                            1440x900  Intel Core i5 1.8GHz    8   \n",
       "\n",
       "                Memory                           Gpu  OpSys  Weight  \\\n",
       "0            128GB SSD  Intel Iris Plus Graphics 640  macOS    1.37   \n",
       "1  128GB Flash Storage        Intel HD Graphics 6000  macOS    1.34   \n",
       "\n",
       "   Price_euros  Touchscreen  Ips  \n",
       "0      1339.69            0    1  \n",
       "1       898.94            0    0  "
      ]
     },
     "execution_count": 79,
     "metadata": {},
     "output_type": "execute_result"
    }
   ],
   "source": [
    "data.head(2)"
   ]
  },
  {
   "cell_type": "markdown",
   "id": "01bb11f1",
   "metadata": {},
   "source": [
    "# Cpu "
   ]
  },
  {
   "cell_type": "code",
   "execution_count": 80,
   "id": "97251ef2",
   "metadata": {},
   "outputs": [
    {
     "data": {
      "text/plain": [
       "Intel Core i5 7200U 2.5GHz       190\n",
       "Intel Core i7 7700HQ 2.8GHz      146\n",
       "Intel Core i7 7500U 2.7GHz       134\n",
       "Intel Core i7 8550U 1.8GHz        73\n",
       "Intel Core i5 8250U 1.6GHz        72\n",
       "                                ... \n",
       "Intel Core M M3-6Y30 0.9GHz        1\n",
       "AMD A9-Series 9420 2.9GHz          1\n",
       "Intel Core i3 6006U 2.2GHz         1\n",
       "AMD A6-Series 7310 2GHz            1\n",
       "Intel Xeon E3-1535M v6 3.1GHz      1\n",
       "Name: Cpu, Length: 118, dtype: int64"
      ]
     },
     "execution_count": 80,
     "metadata": {},
     "output_type": "execute_result"
    }
   ],
   "source": [
    "#get count\n",
    "data['Cpu'].value_counts()"
   ]
  },
  {
   "cell_type": "code",
   "execution_count": 81,
   "id": "acbd4a07",
   "metadata": {},
   "outputs": [],
   "source": [
    "#derive new column from Cpu column\n",
    "data['cpu_name'] = data['Cpu'].apply(lambda x:\" \".join(x.split()[0:3]))"
   ]
  },
  {
   "cell_type": "code",
   "execution_count": 82,
   "id": "07a5803a",
   "metadata": {},
   "outputs": [
    {
     "data": {
      "text/plain": [
       "Intel Core i7               527\n",
       "Intel Core i5               423\n",
       "Intel Core i3               136\n",
       "Intel Celeron Dual           80\n",
       "Intel Pentium Quad           27\n",
       "Intel Core M                 19\n",
       "AMD A9-Series 9420           12\n",
       "Intel Celeron Quad            8\n",
       "AMD A6-Series 9220            8\n",
       "AMD A12-Series 9720P          7\n",
       "Intel Atom x5-Z8350           5\n",
       "AMD A8-Series 7410            4\n",
       "Intel Atom x5-Z8550           4\n",
       "Intel Pentium Dual            3\n",
       "AMD A9-Series 9410            3\n",
       "AMD Ryzen 1700                3\n",
       "AMD A9-Series A9-9420         2\n",
       "AMD A10-Series 9620P          2\n",
       "Intel Atom X5-Z8350           2\n",
       "AMD E-Series E2-9000e         2\n",
       "Intel Xeon E3-1535M           2\n",
       "Intel Xeon E3-1505M           2\n",
       "AMD E-Series 7110             2\n",
       "AMD A10-Series 9600P          2\n",
       "AMD A6-Series A6-9220         2\n",
       "AMD A10-Series A10-9620P      2\n",
       "AMD Ryzen 1600                1\n",
       "Intel Atom x5-Z8300           1\n",
       "AMD E-Series E2-6110          1\n",
       "AMD FX 9830P                  1\n",
       "AMD E-Series E2-9000          1\n",
       "AMD A6-Series 7310            1\n",
       "Intel Atom Z8350              1\n",
       "AMD A12-Series 9700P          1\n",
       "AMD A4-Series 7210            1\n",
       "AMD FX 8800P                  1\n",
       "AMD E-Series 9000e            1\n",
       "Samsung Cortex A72&A53        1\n",
       "AMD E-Series 9000             1\n",
       "AMD E-Series 6110             1\n",
       "Name: cpu_name, dtype: int64"
      ]
     },
     "execution_count": 82,
     "metadata": {},
     "output_type": "execute_result"
    }
   ],
   "source": [
    "#get count\n",
    "data['cpu_name'].value_counts()"
   ]
  },
  {
   "cell_type": "code",
   "execution_count": 83,
   "id": "ff0b78f5",
   "metadata": {},
   "outputs": [],
   "source": [
    "#reduce the items by using a function\n",
    "def set_processor(name):\n",
    "    if name == 'Intel Core i7' or name == 'Intel Core i5' or name == 'Intel Core i3':\n",
    "        return name\n",
    "    else:\n",
    "        if name.split()[0] == 'AMD':\n",
    "            return 'AMD'\n",
    "        else:\n",
    "            return 'Other'"
   ]
  },
  {
   "cell_type": "code",
   "execution_count": 84,
   "id": "990e2b17",
   "metadata": {},
   "outputs": [],
   "source": [
    "#call the function\n",
    "data['cpu_name'] = data['cpu_name'].apply(set_processor)"
   ]
  },
  {
   "cell_type": "code",
   "execution_count": 85,
   "id": "f62a31a2",
   "metadata": {},
   "outputs": [
    {
     "data": {
      "text/plain": [
       "Intel Core i7    527\n",
       "Intel Core i5    423\n",
       "Other            155\n",
       "Intel Core i3    136\n",
       "AMD               62\n",
       "Name: cpu_name, dtype: int64"
      ]
     },
     "execution_count": 85,
     "metadata": {},
     "output_type": "execute_result"
    }
   ],
   "source": [
    "#get results\n",
    "data['cpu_name'].value_counts()"
   ]
  },
  {
   "cell_type": "markdown",
   "id": "0b2d0c83",
   "metadata": {},
   "source": [
    "# Ram"
   ]
  },
  {
   "cell_type": "code",
   "execution_count": 86,
   "id": "926bbb53",
   "metadata": {},
   "outputs": [
    {
     "data": {
      "text/plain": [
       "8     619\n",
       "4     375\n",
       "16    200\n",
       "6      41\n",
       "12     25\n",
       "2      22\n",
       "32     17\n",
       "24      3\n",
       "64      1\n",
       "Name: Ram, dtype: int64"
      ]
     },
     "execution_count": 86,
     "metadata": {},
     "output_type": "execute_result"
    }
   ],
   "source": [
    "#get count\n",
    "data['Ram'].value_counts()"
   ]
  },
  {
   "cell_type": "markdown",
   "id": "de3c1138",
   "metadata": {},
   "source": [
    "# Gpu"
   ]
  },
  {
   "cell_type": "code",
   "execution_count": 87,
   "id": "cd92d72d",
   "metadata": {},
   "outputs": [
    {
     "data": {
      "text/plain": [
       "Intel HD Graphics 620      281\n",
       "Intel HD Graphics 520      185\n",
       "Intel UHD Graphics 620      68\n",
       "Nvidia GeForce GTX 1050     66\n",
       "Nvidia GeForce GTX 1060     48\n",
       "                          ... \n",
       "AMD Radeon R5 520            1\n",
       "AMD Radeon R7                1\n",
       "Intel HD Graphics 540        1\n",
       "AMD Radeon 540               1\n",
       "ARM Mali T860 MP4            1\n",
       "Name: Gpu, Length: 110, dtype: int64"
      ]
     },
     "execution_count": 87,
     "metadata": {},
     "output_type": "execute_result"
    }
   ],
   "source": [
    "#get count\n",
    "data['Gpu'].value_counts()"
   ]
  },
  {
   "cell_type": "code",
   "execution_count": 88,
   "id": "a591595f",
   "metadata": {},
   "outputs": [],
   "source": [
    "#derive another new column\n",
    "data['gpu_name'] = data['Gpu'].apply(lambda x:\" \".join(x.split()[0:1]))"
   ]
  },
  {
   "cell_type": "code",
   "execution_count": 89,
   "id": "1fd69bd6",
   "metadata": {},
   "outputs": [
    {
     "data": {
      "text/plain": [
       "Intel     722\n",
       "Nvidia    400\n",
       "AMD       180\n",
       "ARM         1\n",
       "Name: gpu_name, dtype: int64"
      ]
     },
     "execution_count": 89,
     "metadata": {},
     "output_type": "execute_result"
    }
   ],
   "source": [
    "# get count\n",
    "data['gpu_name'].value_counts()"
   ]
  },
  {
   "cell_type": "code",
   "execution_count": 90,
   "id": "9dd5b02e",
   "metadata": {},
   "outputs": [
    {
     "data": {
      "text/plain": [
       "(1303, 17)"
      ]
     },
     "execution_count": 90,
     "metadata": {},
     "output_type": "execute_result"
    }
   ],
   "source": [
    "#get the shape\n",
    "data.shape"
   ]
  },
  {
   "cell_type": "code",
   "execution_count": 91,
   "id": "bcba2806",
   "metadata": {},
   "outputs": [],
   "source": [
    "#remove the row that contain ARM as the Gpu name\n",
    "data = data[data['gpu_name'] != 'ARM']"
   ]
  },
  {
   "cell_type": "code",
   "execution_count": 92,
   "id": "43a38564",
   "metadata": {},
   "outputs": [
    {
     "data": {
      "text/plain": [
       "(1302, 17)"
      ]
     },
     "execution_count": 92,
     "metadata": {},
     "output_type": "execute_result"
    }
   ],
   "source": [
    "data.shape"
   ]
  },
  {
   "cell_type": "code",
   "execution_count": 93,
   "id": "6002573b",
   "metadata": {},
   "outputs": [
    {
     "data": {
      "text/html": [
       "<div>\n",
       "<style scoped>\n",
       "    .dataframe tbody tr th:only-of-type {\n",
       "        vertical-align: middle;\n",
       "    }\n",
       "\n",
       "    .dataframe tbody tr th {\n",
       "        vertical-align: top;\n",
       "    }\n",
       "\n",
       "    .dataframe thead th {\n",
       "        text-align: right;\n",
       "    }\n",
       "</style>\n",
       "<table border=\"1\" class=\"dataframe\">\n",
       "  <thead>\n",
       "    <tr style=\"text-align: right;\">\n",
       "      <th></th>\n",
       "      <th>laptop_ID</th>\n",
       "      <th>Company</th>\n",
       "      <th>Product</th>\n",
       "      <th>TypeName</th>\n",
       "      <th>Inches</th>\n",
       "      <th>ScreenResolution</th>\n",
       "      <th>Cpu</th>\n",
       "      <th>Ram</th>\n",
       "      <th>Memory</th>\n",
       "      <th>Gpu</th>\n",
       "      <th>OpSys</th>\n",
       "      <th>Weight</th>\n",
       "      <th>Price_euros</th>\n",
       "      <th>Touchscreen</th>\n",
       "      <th>Ips</th>\n",
       "      <th>cpu_name</th>\n",
       "      <th>gpu_name</th>\n",
       "    </tr>\n",
       "  </thead>\n",
       "  <tbody>\n",
       "    <tr>\n",
       "      <th>0</th>\n",
       "      <td>1</td>\n",
       "      <td>Apple</td>\n",
       "      <td>MacBook Pro</td>\n",
       "      <td>Ultrabook</td>\n",
       "      <td>13.3</td>\n",
       "      <td>IPS Panel Retina Display 2560x1600</td>\n",
       "      <td>Intel Core i5 2.3GHz</td>\n",
       "      <td>8</td>\n",
       "      <td>128GB SSD</td>\n",
       "      <td>Intel Iris Plus Graphics 640</td>\n",
       "      <td>macOS</td>\n",
       "      <td>1.37</td>\n",
       "      <td>1339.69</td>\n",
       "      <td>0</td>\n",
       "      <td>1</td>\n",
       "      <td>Intel Core i5</td>\n",
       "      <td>Intel</td>\n",
       "    </tr>\n",
       "    <tr>\n",
       "      <th>1</th>\n",
       "      <td>2</td>\n",
       "      <td>Apple</td>\n",
       "      <td>Macbook Air</td>\n",
       "      <td>Ultrabook</td>\n",
       "      <td>13.3</td>\n",
       "      <td>1440x900</td>\n",
       "      <td>Intel Core i5 1.8GHz</td>\n",
       "      <td>8</td>\n",
       "      <td>128GB Flash Storage</td>\n",
       "      <td>Intel HD Graphics 6000</td>\n",
       "      <td>macOS</td>\n",
       "      <td>1.34</td>\n",
       "      <td>898.94</td>\n",
       "      <td>0</td>\n",
       "      <td>0</td>\n",
       "      <td>Intel Core i5</td>\n",
       "      <td>Intel</td>\n",
       "    </tr>\n",
       "  </tbody>\n",
       "</table>\n",
       "</div>"
      ],
      "text/plain": [
       "   laptop_ID Company      Product   TypeName  Inches  \\\n",
       "0          1   Apple  MacBook Pro  Ultrabook    13.3   \n",
       "1          2   Apple  Macbook Air  Ultrabook    13.3   \n",
       "\n",
       "                     ScreenResolution                   Cpu  Ram  \\\n",
       "0  IPS Panel Retina Display 2560x1600  Intel Core i5 2.3GHz    8   \n",
       "1                            1440x900  Intel Core i5 1.8GHz    8   \n",
       "\n",
       "                Memory                           Gpu  OpSys  Weight  \\\n",
       "0            128GB SSD  Intel Iris Plus Graphics 640  macOS    1.37   \n",
       "1  128GB Flash Storage        Intel HD Graphics 6000  macOS    1.34   \n",
       "\n",
       "   Price_euros  Touchscreen  Ips       cpu_name gpu_name  \n",
       "0      1339.69            0    1  Intel Core i5    Intel  \n",
       "1       898.94            0    0  Intel Core i5    Intel  "
      ]
     },
     "execution_count": 93,
     "metadata": {},
     "output_type": "execute_result"
    }
   ],
   "source": [
    "data.head(2)"
   ]
  },
  {
   "cell_type": "markdown",
   "id": "07f48fca",
   "metadata": {},
   "source": [
    "# OpSys"
   ]
  },
  {
   "cell_type": "code",
   "execution_count": 94,
   "id": "8295c9fd",
   "metadata": {},
   "outputs": [
    {
     "data": {
      "text/plain": [
       "Windows 10      1072\n",
       "No OS             66\n",
       "Linux             62\n",
       "Windows 7         45\n",
       "Chrome OS         26\n",
       "macOS             13\n",
       "Mac OS X           8\n",
       "Windows 10 S       8\n",
       "Android            2\n",
       "Name: OpSys, dtype: int64"
      ]
     },
     "execution_count": 94,
     "metadata": {},
     "output_type": "execute_result"
    }
   ],
   "source": [
    "#get count\n",
    "data['OpSys'].value_counts()"
   ]
  },
  {
   "cell_type": "code",
   "execution_count": 95,
   "id": "93672196",
   "metadata": {},
   "outputs": [],
   "source": [
    "#group the items in OpSys \n",
    "def set_os(inpt):\n",
    "    if inpt == 'Windows 10' or inpt == 'Windows 7' or inpt == 'Windows 10 S':\n",
    "        return 'Windows'\n",
    "    elif inpt == 'macOS' or inpt == 'Mac OS X':\n",
    "        return 'Mac'\n",
    "    elif inpt == 'Linux':\n",
    "        return inpt\n",
    "    else:\n",
    "        return 'Other'"
   ]
  },
  {
   "cell_type": "code",
   "execution_count": 96,
   "id": "e6d76d8f",
   "metadata": {},
   "outputs": [],
   "source": [
    "#call the function\n",
    "data['OpSys'] = data['OpSys'].apply(set_os)  "
   ]
  },
  {
   "cell_type": "code",
   "execution_count": 97,
   "id": "d1d160fc",
   "metadata": {},
   "outputs": [
    {
     "data": {
      "text/plain": [
       "Windows    1125\n",
       "Other        94\n",
       "Linux        62\n",
       "Mac          21\n",
       "Name: OpSys, dtype: int64"
      ]
     },
     "execution_count": 97,
     "metadata": {},
     "output_type": "execute_result"
    }
   ],
   "source": [
    "#get count\n",
    "data['OpSys'].value_counts()"
   ]
  },
  {
   "cell_type": "code",
   "execution_count": 98,
   "id": "8397c2f3",
   "metadata": {},
   "outputs": [
    {
     "data": {
      "text/html": [
       "<div>\n",
       "<style scoped>\n",
       "    .dataframe tbody tr th:only-of-type {\n",
       "        vertical-align: middle;\n",
       "    }\n",
       "\n",
       "    .dataframe tbody tr th {\n",
       "        vertical-align: top;\n",
       "    }\n",
       "\n",
       "    .dataframe thead th {\n",
       "        text-align: right;\n",
       "    }\n",
       "</style>\n",
       "<table border=\"1\" class=\"dataframe\">\n",
       "  <thead>\n",
       "    <tr style=\"text-align: right;\">\n",
       "      <th></th>\n",
       "      <th>laptop_ID</th>\n",
       "      <th>Company</th>\n",
       "      <th>Product</th>\n",
       "      <th>TypeName</th>\n",
       "      <th>Inches</th>\n",
       "      <th>ScreenResolution</th>\n",
       "      <th>Cpu</th>\n",
       "      <th>Ram</th>\n",
       "      <th>Memory</th>\n",
       "      <th>Gpu</th>\n",
       "      <th>OpSys</th>\n",
       "      <th>Weight</th>\n",
       "      <th>Price_euros</th>\n",
       "      <th>Touchscreen</th>\n",
       "      <th>Ips</th>\n",
       "      <th>cpu_name</th>\n",
       "      <th>gpu_name</th>\n",
       "    </tr>\n",
       "  </thead>\n",
       "  <tbody>\n",
       "    <tr>\n",
       "      <th>0</th>\n",
       "      <td>1</td>\n",
       "      <td>Apple</td>\n",
       "      <td>MacBook Pro</td>\n",
       "      <td>Ultrabook</td>\n",
       "      <td>13.3</td>\n",
       "      <td>IPS Panel Retina Display 2560x1600</td>\n",
       "      <td>Intel Core i5 2.3GHz</td>\n",
       "      <td>8</td>\n",
       "      <td>128GB SSD</td>\n",
       "      <td>Intel Iris Plus Graphics 640</td>\n",
       "      <td>Mac</td>\n",
       "      <td>1.37</td>\n",
       "      <td>1339.69</td>\n",
       "      <td>0</td>\n",
       "      <td>1</td>\n",
       "      <td>Intel Core i5</td>\n",
       "      <td>Intel</td>\n",
       "    </tr>\n",
       "    <tr>\n",
       "      <th>1</th>\n",
       "      <td>2</td>\n",
       "      <td>Apple</td>\n",
       "      <td>Macbook Air</td>\n",
       "      <td>Ultrabook</td>\n",
       "      <td>13.3</td>\n",
       "      <td>1440x900</td>\n",
       "      <td>Intel Core i5 1.8GHz</td>\n",
       "      <td>8</td>\n",
       "      <td>128GB Flash Storage</td>\n",
       "      <td>Intel HD Graphics 6000</td>\n",
       "      <td>Mac</td>\n",
       "      <td>1.34</td>\n",
       "      <td>898.94</td>\n",
       "      <td>0</td>\n",
       "      <td>0</td>\n",
       "      <td>Intel Core i5</td>\n",
       "      <td>Intel</td>\n",
       "    </tr>\n",
       "    <tr>\n",
       "      <th>2</th>\n",
       "      <td>3</td>\n",
       "      <td>HP</td>\n",
       "      <td>250 G6</td>\n",
       "      <td>Notebook</td>\n",
       "      <td>15.6</td>\n",
       "      <td>Full HD 1920x1080</td>\n",
       "      <td>Intel Core i5 7200U 2.5GHz</td>\n",
       "      <td>8</td>\n",
       "      <td>256GB SSD</td>\n",
       "      <td>Intel HD Graphics 620</td>\n",
       "      <td>Other</td>\n",
       "      <td>1.86</td>\n",
       "      <td>575.00</td>\n",
       "      <td>0</td>\n",
       "      <td>0</td>\n",
       "      <td>Intel Core i5</td>\n",
       "      <td>Intel</td>\n",
       "    </tr>\n",
       "    <tr>\n",
       "      <th>3</th>\n",
       "      <td>4</td>\n",
       "      <td>Apple</td>\n",
       "      <td>MacBook Pro</td>\n",
       "      <td>Ultrabook</td>\n",
       "      <td>15.4</td>\n",
       "      <td>IPS Panel Retina Display 2880x1800</td>\n",
       "      <td>Intel Core i7 2.7GHz</td>\n",
       "      <td>16</td>\n",
       "      <td>512GB SSD</td>\n",
       "      <td>AMD Radeon Pro 455</td>\n",
       "      <td>Mac</td>\n",
       "      <td>1.83</td>\n",
       "      <td>2537.45</td>\n",
       "      <td>0</td>\n",
       "      <td>1</td>\n",
       "      <td>Intel Core i7</td>\n",
       "      <td>AMD</td>\n",
       "    </tr>\n",
       "    <tr>\n",
       "      <th>4</th>\n",
       "      <td>5</td>\n",
       "      <td>Apple</td>\n",
       "      <td>MacBook Pro</td>\n",
       "      <td>Ultrabook</td>\n",
       "      <td>13.3</td>\n",
       "      <td>IPS Panel Retina Display 2560x1600</td>\n",
       "      <td>Intel Core i5 3.1GHz</td>\n",
       "      <td>8</td>\n",
       "      <td>256GB SSD</td>\n",
       "      <td>Intel Iris Plus Graphics 650</td>\n",
       "      <td>Mac</td>\n",
       "      <td>1.37</td>\n",
       "      <td>1803.60</td>\n",
       "      <td>0</td>\n",
       "      <td>1</td>\n",
       "      <td>Intel Core i5</td>\n",
       "      <td>Intel</td>\n",
       "    </tr>\n",
       "  </tbody>\n",
       "</table>\n",
       "</div>"
      ],
      "text/plain": [
       "   laptop_ID Company      Product   TypeName  Inches  \\\n",
       "0          1   Apple  MacBook Pro  Ultrabook    13.3   \n",
       "1          2   Apple  Macbook Air  Ultrabook    13.3   \n",
       "2          3      HP       250 G6   Notebook    15.6   \n",
       "3          4   Apple  MacBook Pro  Ultrabook    15.4   \n",
       "4          5   Apple  MacBook Pro  Ultrabook    13.3   \n",
       "\n",
       "                     ScreenResolution                         Cpu  Ram  \\\n",
       "0  IPS Panel Retina Display 2560x1600        Intel Core i5 2.3GHz    8   \n",
       "1                            1440x900        Intel Core i5 1.8GHz    8   \n",
       "2                   Full HD 1920x1080  Intel Core i5 7200U 2.5GHz    8   \n",
       "3  IPS Panel Retina Display 2880x1800        Intel Core i7 2.7GHz   16   \n",
       "4  IPS Panel Retina Display 2560x1600        Intel Core i5 3.1GHz    8   \n",
       "\n",
       "                Memory                           Gpu  OpSys  Weight  \\\n",
       "0            128GB SSD  Intel Iris Plus Graphics 640    Mac    1.37   \n",
       "1  128GB Flash Storage        Intel HD Graphics 6000    Mac    1.34   \n",
       "2            256GB SSD         Intel HD Graphics 620  Other    1.86   \n",
       "3            512GB SSD            AMD Radeon Pro 455    Mac    1.83   \n",
       "4            256GB SSD  Intel Iris Plus Graphics 650    Mac    1.37   \n",
       "\n",
       "   Price_euros  Touchscreen  Ips       cpu_name gpu_name  \n",
       "0      1339.69            0    1  Intel Core i5    Intel  \n",
       "1       898.94            0    0  Intel Core i5    Intel  \n",
       "2       575.00            0    0  Intel Core i5    Intel  \n",
       "3      2537.45            0    1  Intel Core i7      AMD  \n",
       "4      1803.60            0    1  Intel Core i5    Intel  "
      ]
     },
     "execution_count": 98,
     "metadata": {},
     "output_type": "execute_result"
    }
   ],
   "source": [
    "data.head()"
   ]
  },
  {
   "cell_type": "markdown",
   "id": "cbf73326",
   "metadata": {},
   "source": [
    "# remove unnessary columns from dataset"
   ]
  },
  {
   "cell_type": "code",
   "execution_count": 99,
   "id": "299dad6c",
   "metadata": {},
   "outputs": [],
   "source": [
    "#drop columns\n",
    "data = data.drop(columns=['laptop_ID', 'Inches', 'Product', 'ScreenResolution', 'Cpu', 'Gpu', 'Memory'])"
   ]
  },
  {
   "cell_type": "code",
   "execution_count": 100,
   "id": "f30580bf",
   "metadata": {},
   "outputs": [
    {
     "data": {
      "text/html": [
       "<div>\n",
       "<style scoped>\n",
       "    .dataframe tbody tr th:only-of-type {\n",
       "        vertical-align: middle;\n",
       "    }\n",
       "\n",
       "    .dataframe tbody tr th {\n",
       "        vertical-align: top;\n",
       "    }\n",
       "\n",
       "    .dataframe thead th {\n",
       "        text-align: right;\n",
       "    }\n",
       "</style>\n",
       "<table border=\"1\" class=\"dataframe\">\n",
       "  <thead>\n",
       "    <tr style=\"text-align: right;\">\n",
       "      <th></th>\n",
       "      <th>Company</th>\n",
       "      <th>TypeName</th>\n",
       "      <th>Ram</th>\n",
       "      <th>OpSys</th>\n",
       "      <th>Weight</th>\n",
       "      <th>Price_euros</th>\n",
       "      <th>Touchscreen</th>\n",
       "      <th>Ips</th>\n",
       "      <th>cpu_name</th>\n",
       "      <th>gpu_name</th>\n",
       "    </tr>\n",
       "  </thead>\n",
       "  <tbody>\n",
       "    <tr>\n",
       "      <th>0</th>\n",
       "      <td>Apple</td>\n",
       "      <td>Ultrabook</td>\n",
       "      <td>8</td>\n",
       "      <td>Mac</td>\n",
       "      <td>1.37</td>\n",
       "      <td>1339.69</td>\n",
       "      <td>0</td>\n",
       "      <td>1</td>\n",
       "      <td>Intel Core i5</td>\n",
       "      <td>Intel</td>\n",
       "    </tr>\n",
       "    <tr>\n",
       "      <th>1</th>\n",
       "      <td>Apple</td>\n",
       "      <td>Ultrabook</td>\n",
       "      <td>8</td>\n",
       "      <td>Mac</td>\n",
       "      <td>1.34</td>\n",
       "      <td>898.94</td>\n",
       "      <td>0</td>\n",
       "      <td>0</td>\n",
       "      <td>Intel Core i5</td>\n",
       "      <td>Intel</td>\n",
       "    </tr>\n",
       "    <tr>\n",
       "      <th>2</th>\n",
       "      <td>HP</td>\n",
       "      <td>Notebook</td>\n",
       "      <td>8</td>\n",
       "      <td>Other</td>\n",
       "      <td>1.86</td>\n",
       "      <td>575.00</td>\n",
       "      <td>0</td>\n",
       "      <td>0</td>\n",
       "      <td>Intel Core i5</td>\n",
       "      <td>Intel</td>\n",
       "    </tr>\n",
       "  </tbody>\n",
       "</table>\n",
       "</div>"
      ],
      "text/plain": [
       "  Company   TypeName  Ram  OpSys  Weight  Price_euros  Touchscreen  Ips  \\\n",
       "0   Apple  Ultrabook    8    Mac    1.37      1339.69            0    1   \n",
       "1   Apple  Ultrabook    8    Mac    1.34       898.94            0    0   \n",
       "2      HP   Notebook    8  Other    1.86       575.00            0    0   \n",
       "\n",
       "        cpu_name gpu_name  \n",
       "0  Intel Core i5    Intel  \n",
       "1  Intel Core i5    Intel  \n",
       "2  Intel Core i5    Intel  "
      ]
     },
     "execution_count": 100,
     "metadata": {},
     "output_type": "execute_result"
    }
   ],
   "source": [
    "data.head(3)"
   ]
  },
  {
   "cell_type": "code",
   "execution_count": 101,
   "id": "3fc7d60a",
   "metadata": {},
   "outputs": [
    {
     "data": {
      "text/plain": [
       "(1302, 10)"
      ]
     },
     "execution_count": 101,
     "metadata": {},
     "output_type": "execute_result"
    }
   ],
   "source": [
    "data.shape"
   ]
  },
  {
   "cell_type": "markdown",
   "id": "be5cef2b",
   "metadata": {},
   "source": [
    "# One-Hot Encording"
   ]
  },
  {
   "cell_type": "code",
   "execution_count": 102,
   "id": "6f34a4bf",
   "metadata": {},
   "outputs": [],
   "source": [
    "#encord the categorical data using pandas\n",
    "data = pd.get_dummies(data)"
   ]
  },
  {
   "cell_type": "code",
   "execution_count": 103,
   "id": "e0af53f3",
   "metadata": {},
   "outputs": [
    {
     "data": {
      "text/html": [
       "<div>\n",
       "<style scoped>\n",
       "    .dataframe tbody tr th:only-of-type {\n",
       "        vertical-align: middle;\n",
       "    }\n",
       "\n",
       "    .dataframe tbody tr th {\n",
       "        vertical-align: top;\n",
       "    }\n",
       "\n",
       "    .dataframe thead th {\n",
       "        text-align: right;\n",
       "    }\n",
       "</style>\n",
       "<table border=\"1\" class=\"dataframe\">\n",
       "  <thead>\n",
       "    <tr style=\"text-align: right;\">\n",
       "      <th></th>\n",
       "      <th>Ram</th>\n",
       "      <th>Weight</th>\n",
       "      <th>Price_euros</th>\n",
       "      <th>Touchscreen</th>\n",
       "      <th>Ips</th>\n",
       "      <th>Company_Acer</th>\n",
       "      <th>Company_Apple</th>\n",
       "      <th>Company_Asus</th>\n",
       "      <th>Company_Dell</th>\n",
       "      <th>Company_HP</th>\n",
       "      <th>...</th>\n",
       "      <th>OpSys_Other</th>\n",
       "      <th>OpSys_Windows</th>\n",
       "      <th>cpu_name_AMD</th>\n",
       "      <th>cpu_name_Intel Core i3</th>\n",
       "      <th>cpu_name_Intel Core i5</th>\n",
       "      <th>cpu_name_Intel Core i7</th>\n",
       "      <th>cpu_name_Other</th>\n",
       "      <th>gpu_name_AMD</th>\n",
       "      <th>gpu_name_Intel</th>\n",
       "      <th>gpu_name_Nvidia</th>\n",
       "    </tr>\n",
       "  </thead>\n",
       "  <tbody>\n",
       "    <tr>\n",
       "      <th>0</th>\n",
       "      <td>8</td>\n",
       "      <td>1.37</td>\n",
       "      <td>1339.69</td>\n",
       "      <td>0</td>\n",
       "      <td>1</td>\n",
       "      <td>0</td>\n",
       "      <td>1</td>\n",
       "      <td>0</td>\n",
       "      <td>0</td>\n",
       "      <td>0</td>\n",
       "      <td>...</td>\n",
       "      <td>0</td>\n",
       "      <td>0</td>\n",
       "      <td>0</td>\n",
       "      <td>0</td>\n",
       "      <td>1</td>\n",
       "      <td>0</td>\n",
       "      <td>0</td>\n",
       "      <td>0</td>\n",
       "      <td>1</td>\n",
       "      <td>0</td>\n",
       "    </tr>\n",
       "    <tr>\n",
       "      <th>1</th>\n",
       "      <td>8</td>\n",
       "      <td>1.34</td>\n",
       "      <td>898.94</td>\n",
       "      <td>0</td>\n",
       "      <td>0</td>\n",
       "      <td>0</td>\n",
       "      <td>1</td>\n",
       "      <td>0</td>\n",
       "      <td>0</td>\n",
       "      <td>0</td>\n",
       "      <td>...</td>\n",
       "      <td>0</td>\n",
       "      <td>0</td>\n",
       "      <td>0</td>\n",
       "      <td>0</td>\n",
       "      <td>1</td>\n",
       "      <td>0</td>\n",
       "      <td>0</td>\n",
       "      <td>0</td>\n",
       "      <td>1</td>\n",
       "      <td>0</td>\n",
       "    </tr>\n",
       "    <tr>\n",
       "      <th>2</th>\n",
       "      <td>8</td>\n",
       "      <td>1.86</td>\n",
       "      <td>575.00</td>\n",
       "      <td>0</td>\n",
       "      <td>0</td>\n",
       "      <td>0</td>\n",
       "      <td>0</td>\n",
       "      <td>0</td>\n",
       "      <td>0</td>\n",
       "      <td>1</td>\n",
       "      <td>...</td>\n",
       "      <td>1</td>\n",
       "      <td>0</td>\n",
       "      <td>0</td>\n",
       "      <td>0</td>\n",
       "      <td>1</td>\n",
       "      <td>0</td>\n",
       "      <td>0</td>\n",
       "      <td>0</td>\n",
       "      <td>1</td>\n",
       "      <td>0</td>\n",
       "    </tr>\n",
       "    <tr>\n",
       "      <th>3</th>\n",
       "      <td>16</td>\n",
       "      <td>1.83</td>\n",
       "      <td>2537.45</td>\n",
       "      <td>0</td>\n",
       "      <td>1</td>\n",
       "      <td>0</td>\n",
       "      <td>1</td>\n",
       "      <td>0</td>\n",
       "      <td>0</td>\n",
       "      <td>0</td>\n",
       "      <td>...</td>\n",
       "      <td>0</td>\n",
       "      <td>0</td>\n",
       "      <td>0</td>\n",
       "      <td>0</td>\n",
       "      <td>0</td>\n",
       "      <td>1</td>\n",
       "      <td>0</td>\n",
       "      <td>1</td>\n",
       "      <td>0</td>\n",
       "      <td>0</td>\n",
       "    </tr>\n",
       "    <tr>\n",
       "      <th>4</th>\n",
       "      <td>8</td>\n",
       "      <td>1.37</td>\n",
       "      <td>1803.60</td>\n",
       "      <td>0</td>\n",
       "      <td>1</td>\n",
       "      <td>0</td>\n",
       "      <td>1</td>\n",
       "      <td>0</td>\n",
       "      <td>0</td>\n",
       "      <td>0</td>\n",
       "      <td>...</td>\n",
       "      <td>0</td>\n",
       "      <td>0</td>\n",
       "      <td>0</td>\n",
       "      <td>0</td>\n",
       "      <td>1</td>\n",
       "      <td>0</td>\n",
       "      <td>0</td>\n",
       "      <td>0</td>\n",
       "      <td>1</td>\n",
       "      <td>0</td>\n",
       "    </tr>\n",
       "  </tbody>\n",
       "</table>\n",
       "<p>5 rows × 32 columns</p>\n",
       "</div>"
      ],
      "text/plain": [
       "   Ram  Weight  Price_euros  Touchscreen  Ips  Company_Acer  Company_Apple  \\\n",
       "0    8    1.37      1339.69            0    1             0              1   \n",
       "1    8    1.34       898.94            0    0             0              1   \n",
       "2    8    1.86       575.00            0    0             0              0   \n",
       "3   16    1.83      2537.45            0    1             0              1   \n",
       "4    8    1.37      1803.60            0    1             0              1   \n",
       "\n",
       "   Company_Asus  Company_Dell  Company_HP  ...  OpSys_Other  OpSys_Windows  \\\n",
       "0             0             0           0  ...            0              0   \n",
       "1             0             0           0  ...            0              0   \n",
       "2             0             0           1  ...            1              0   \n",
       "3             0             0           0  ...            0              0   \n",
       "4             0             0           0  ...            0              0   \n",
       "\n",
       "   cpu_name_AMD  cpu_name_Intel Core i3  cpu_name_Intel Core i5  \\\n",
       "0             0                       0                       1   \n",
       "1             0                       0                       1   \n",
       "2             0                       0                       1   \n",
       "3             0                       0                       0   \n",
       "4             0                       0                       1   \n",
       "\n",
       "   cpu_name_Intel Core i7  cpu_name_Other  gpu_name_AMD  gpu_name_Intel  \\\n",
       "0                       0               0             0               1   \n",
       "1                       0               0             0               1   \n",
       "2                       0               0             0               1   \n",
       "3                       1               0             1               0   \n",
       "4                       0               0             0               1   \n",
       "\n",
       "   gpu_name_Nvidia  \n",
       "0                0  \n",
       "1                0  \n",
       "2                0  \n",
       "3                0  \n",
       "4                0  \n",
       "\n",
       "[5 rows x 32 columns]"
      ]
     },
     "execution_count": 103,
     "metadata": {},
     "output_type": "execute_result"
    }
   ],
   "source": [
    "data.head(5)"
   ]
  },
  {
   "cell_type": "code",
   "execution_count": 104,
   "id": "fbf26cad",
   "metadata": {},
   "outputs": [
    {
     "data": {
      "text/plain": [
       "(1302, 32)"
      ]
     },
     "execution_count": 104,
     "metadata": {},
     "output_type": "execute_result"
    }
   ],
   "source": [
    "data.shape"
   ]
  },
  {
   "cell_type": "markdown",
   "id": "92c4506f",
   "metadata": {},
   "source": [
    "# Model Building and Selection"
   ]
  },
  {
   "cell_type": "code",
   "execution_count": 105,
   "id": "1ace0c2e",
   "metadata": {},
   "outputs": [],
   "source": [
    "#drop Pries_euros column from the dat set and get it as Label\n",
    "X = data.drop('Price_euros', axis=1)\n",
    "y = data['Price_euros']"
   ]
  },
  {
   "cell_type": "code",
   "execution_count": 106,
   "id": "ac4eb6ed",
   "metadata": {},
   "outputs": [
    {
     "name": "stdout",
     "output_type": "stream",
     "text": [
      "Requirement already satisfied: sklearn in c:\\users\\user\\desktop\\mini project\\model\\env\\lib\\site-packages (0.0)\n",
      "Requirement already satisfied: scikit-learn in c:\\users\\user\\desktop\\mini project\\model\\env\\lib\\site-packages (from sklearn) (1.1.3)\n",
      "Requirement already satisfied: joblib>=1.0.0 in c:\\users\\user\\desktop\\mini project\\model\\env\\lib\\site-packages (from scikit-learn->sklearn) (1.2.0)\n",
      "Requirement already satisfied: scipy>=1.3.2 in c:\\users\\user\\desktop\\mini project\\model\\env\\lib\\site-packages (from scikit-learn->sklearn) (1.9.3)\n",
      "Requirement already satisfied: threadpoolctl>=2.0.0 in c:\\users\\user\\desktop\\mini project\\model\\env\\lib\\site-packages (from scikit-learn->sklearn) (3.1.0)\n",
      "Requirement already satisfied: numpy>=1.17.3 in c:\\users\\user\\desktop\\mini project\\model\\env\\lib\\site-packages (from scikit-learn->sklearn) (1.23.4)\n"
     ]
    }
   ],
   "source": [
    "#install sklearn\n",
    "!pip install sklearn"
   ]
  },
  {
   "cell_type": "markdown",
   "id": "64f5ee28",
   "metadata": {},
   "source": [
    "# Divide dataset into training and testing set"
   ]
  },
  {
   "cell_type": "code",
   "execution_count": 107,
   "id": "6bd4e65a",
   "metadata": {},
   "outputs": [],
   "source": [
    "#import libraries to divide the data set as test data and train data\n",
    "from sklearn.model_selection import train_test_split"
   ]
  },
  {
   "cell_type": "code",
   "execution_count": 108,
   "id": "03057b72",
   "metadata": {},
   "outputs": [],
   "source": [
    "#testing data 25% , training data 75% of the datasset\n",
    "X_train, X_test, y_train, y_test = train_test_split(X, y, test_size = 0.25)"
   ]
  },
  {
   "cell_type": "code",
   "execution_count": 109,
   "id": "be09adef",
   "metadata": {},
   "outputs": [
    {
     "data": {
      "text/plain": [
       "((976, 31), (326, 31))"
      ]
     },
     "execution_count": 109,
     "metadata": {},
     "output_type": "execute_result"
    }
   ],
   "source": [
    "#get the shape\n",
    "X_train.shape, X_test.shape"
   ]
  },
  {
   "cell_type": "markdown",
   "id": "6957af7f",
   "metadata": {},
   "source": [
    "\n",
    "\n",
    "# model training\n"
   ]
  },
  {
   "cell_type": "code",
   "execution_count": 110,
   "id": "4b34c3eb",
   "metadata": {},
   "outputs": [],
   "source": [
    "#get accuaracy of the models\n",
    "def model_acc(model):\n",
    "    model.fit(X_train, y_train)\n",
    "    acc = model.score(X_test, y_test)\n",
    "    print(str(model)+ ' --> ' +str(acc))"
   ]
  },
  {
   "cell_type": "code",
   "execution_count": 111,
   "id": "77924c89",
   "metadata": {},
   "outputs": [
    {
     "name": "stdout",
     "output_type": "stream",
     "text": [
      "LinearRegression() --> 0.6912425590042326\n"
     ]
    }
   ],
   "source": [
    "#building models for different diffrent algorithms\n",
    "\n",
    "#linear regression\n",
    "from sklearn.linear_model import LinearRegression\n",
    "lr = LinearRegression()\n",
    "model_acc(lr)"
   ]
  },
  {
   "cell_type": "code",
   "execution_count": 112,
   "id": "8882ebb5",
   "metadata": {},
   "outputs": [
    {
     "name": "stdout",
     "output_type": "stream",
     "text": [
      "Lasso() --> 0.6946306207813957\n"
     ]
    }
   ],
   "source": [
    "#lasso\n",
    "from sklearn.linear_model import Lasso\n",
    "lasso = Lasso()\n",
    "model_acc(lasso)"
   ]
  },
  {
   "cell_type": "code",
   "execution_count": 113,
   "id": "5adf17c7",
   "metadata": {},
   "outputs": [
    {
     "name": "stdout",
     "output_type": "stream",
     "text": [
      "DecisionTreeRegressor() --> 0.6123603713370692\n"
     ]
    }
   ],
   "source": [
    "#decision tree\n",
    "from sklearn.tree import DecisionTreeRegressor\n",
    "dt = DecisionTreeRegressor()\n",
    "model_acc(dt)"
   ]
  },
  {
   "cell_type": "code",
   "execution_count": 114,
   "id": "a4b703ab",
   "metadata": {},
   "outputs": [
    {
     "name": "stdout",
     "output_type": "stream",
     "text": [
      "RandomForestRegressor() --> 0.7754516025118507\n"
     ]
    }
   ],
   "source": [
    "#random forest\n",
    "from sklearn.ensemble import RandomForestRegressor\n",
    "rf = RandomForestRegressor()\n",
    "model_acc(rf)"
   ]
  },
  {
   "cell_type": "markdown",
   "id": "af020e09",
   "metadata": {},
   "source": [
    "# pick random forest and train the model using it"
   ]
  },
  {
   "cell_type": "code",
   "execution_count": 115,
   "id": "ae332de8",
   "metadata": {},
   "outputs": [
    {
     "data": {
      "text/html": [
       "<style>#sk-container-id-2 {color: black;background-color: white;}#sk-container-id-2 pre{padding: 0;}#sk-container-id-2 div.sk-toggleable {background-color: white;}#sk-container-id-2 label.sk-toggleable__label {cursor: pointer;display: block;width: 100%;margin-bottom: 0;padding: 0.3em;box-sizing: border-box;text-align: center;}#sk-container-id-2 label.sk-toggleable__label-arrow:before {content: \"▸\";float: left;margin-right: 0.25em;color: #696969;}#sk-container-id-2 label.sk-toggleable__label-arrow:hover:before {color: black;}#sk-container-id-2 div.sk-estimator:hover label.sk-toggleable__label-arrow:before {color: black;}#sk-container-id-2 div.sk-toggleable__content {max-height: 0;max-width: 0;overflow: hidden;text-align: left;background-color: #f0f8ff;}#sk-container-id-2 div.sk-toggleable__content pre {margin: 0.2em;color: black;border-radius: 0.25em;background-color: #f0f8ff;}#sk-container-id-2 input.sk-toggleable__control:checked~div.sk-toggleable__content {max-height: 200px;max-width: 100%;overflow: auto;}#sk-container-id-2 input.sk-toggleable__control:checked~label.sk-toggleable__label-arrow:before {content: \"▾\";}#sk-container-id-2 div.sk-estimator input.sk-toggleable__control:checked~label.sk-toggleable__label {background-color: #d4ebff;}#sk-container-id-2 div.sk-label input.sk-toggleable__control:checked~label.sk-toggleable__label {background-color: #d4ebff;}#sk-container-id-2 input.sk-hidden--visually {border: 0;clip: rect(1px 1px 1px 1px);clip: rect(1px, 1px, 1px, 1px);height: 1px;margin: -1px;overflow: hidden;padding: 0;position: absolute;width: 1px;}#sk-container-id-2 div.sk-estimator {font-family: monospace;background-color: #f0f8ff;border: 1px dotted black;border-radius: 0.25em;box-sizing: border-box;margin-bottom: 0.5em;}#sk-container-id-2 div.sk-estimator:hover {background-color: #d4ebff;}#sk-container-id-2 div.sk-parallel-item::after {content: \"\";width: 100%;border-bottom: 1px solid gray;flex-grow: 1;}#sk-container-id-2 div.sk-label:hover label.sk-toggleable__label {background-color: #d4ebff;}#sk-container-id-2 div.sk-serial::before {content: \"\";position: absolute;border-left: 1px solid gray;box-sizing: border-box;top: 0;bottom: 0;left: 50%;z-index: 0;}#sk-container-id-2 div.sk-serial {display: flex;flex-direction: column;align-items: center;background-color: white;padding-right: 0.2em;padding-left: 0.2em;position: relative;}#sk-container-id-2 div.sk-item {position: relative;z-index: 1;}#sk-container-id-2 div.sk-parallel {display: flex;align-items: stretch;justify-content: center;background-color: white;position: relative;}#sk-container-id-2 div.sk-item::before, #sk-container-id-2 div.sk-parallel-item::before {content: \"\";position: absolute;border-left: 1px solid gray;box-sizing: border-box;top: 0;bottom: 0;left: 50%;z-index: -1;}#sk-container-id-2 div.sk-parallel-item {display: flex;flex-direction: column;z-index: 1;position: relative;background-color: white;}#sk-container-id-2 div.sk-parallel-item:first-child::after {align-self: flex-end;width: 50%;}#sk-container-id-2 div.sk-parallel-item:last-child::after {align-self: flex-start;width: 50%;}#sk-container-id-2 div.sk-parallel-item:only-child::after {width: 0;}#sk-container-id-2 div.sk-dashed-wrapped {border: 1px dashed gray;margin: 0 0.4em 0.5em 0.4em;box-sizing: border-box;padding-bottom: 0.4em;background-color: white;}#sk-container-id-2 div.sk-label label {font-family: monospace;font-weight: bold;display: inline-block;line-height: 1.2em;}#sk-container-id-2 div.sk-label-container {text-align: center;}#sk-container-id-2 div.sk-container {/* jupyter's `normalize.less` sets `[hidden] { display: none; }` but bootstrap.min.css set `[hidden] { display: none !important; }` so we also need the `!important` here to be able to override the default hidden behavior on the sphinx rendered scikit-learn.org. See: https://github.com/scikit-learn/scikit-learn/issues/21755 */display: inline-block !important;position: relative;}#sk-container-id-2 div.sk-text-repr-fallback {display: none;}</style><div id=\"sk-container-id-2\" class=\"sk-top-container\"><div class=\"sk-text-repr-fallback\"><pre>RandomForestRegressor(criterion=&#x27;absolute_error&#x27;)</pre><b>In a Jupyter environment, please rerun this cell to show the HTML representation or trust the notebook. <br />On GitHub, the HTML representation is unable to render, please try loading this page with nbviewer.org.</b></div><div class=\"sk-container\" hidden><div class=\"sk-item\"><div class=\"sk-estimator sk-toggleable\"><input class=\"sk-toggleable__control sk-hidden--visually\" id=\"sk-estimator-id-2\" type=\"checkbox\" checked><label for=\"sk-estimator-id-2\" class=\"sk-toggleable__label sk-toggleable__label-arrow\">RandomForestRegressor</label><div class=\"sk-toggleable__content\"><pre>RandomForestRegressor(criterion=&#x27;absolute_error&#x27;)</pre></div></div></div></div></div>"
      ],
      "text/plain": [
       "RandomForestRegressor(criterion='absolute_error')"
      ]
     },
     "execution_count": 115,
     "metadata": {},
     "output_type": "execute_result"
    }
   ],
   "source": [
    "#choose best hyper parameter\n",
    "from sklearn.model_selection import GridSearchCV\n",
    "\n",
    "parameters = {'n_estimators':[10, 50, 100],\n",
    "              'criterion':['squared_error','absolute_error','poisson']}\n",
    "\n",
    "grid_obj = GridSearchCV(estimator=rf, param_grid=parameters)\n",
    "\n",
    "grid_fit = grid_obj.fit(X_train, y_train)\n",
    "\n",
    "best_model = grid_fit.best_estimator_\n",
    "\n",
    "#best model\n",
    "best_model"
   ]
  },
  {
   "cell_type": "code",
   "execution_count": 116,
   "id": "73e83f32",
   "metadata": {},
   "outputs": [
    {
     "data": {
      "text/plain": [
       "0.7806431829364515"
      ]
     },
     "execution_count": 116,
     "metadata": {},
     "output_type": "execute_result"
    }
   ],
   "source": [
    "#get score\n",
    "best_model.score(X_test, y_test)"
   ]
  },
  {
   "cell_type": "code",
   "execution_count": 117,
   "id": "d321f9e1",
   "metadata": {},
   "outputs": [
    {
     "data": {
      "text/plain": [
       "Index(['Ram', 'Weight', 'Touchscreen', 'Ips', 'Company_Acer', 'Company_Apple',\n",
       "       'Company_Asus', 'Company_Dell', 'Company_HP', 'Company_Lenovo',\n",
       "       'Company_MSI', 'Company_Other', 'Company_Toshiba',\n",
       "       'TypeName_2 in 1 Convertible', 'TypeName_Gaming', 'TypeName_Netbook',\n",
       "       'TypeName_Notebook', 'TypeName_Ultrabook', 'TypeName_Workstation',\n",
       "       'OpSys_Linux', 'OpSys_Mac', 'OpSys_Other', 'OpSys_Windows',\n",
       "       'cpu_name_AMD', 'cpu_name_Intel Core i3', 'cpu_name_Intel Core i5',\n",
       "       'cpu_name_Intel Core i7', 'cpu_name_Other', 'gpu_name_AMD',\n",
       "       'gpu_name_Intel', 'gpu_name_Nvidia'],\n",
       "      dtype='object')"
      ]
     },
     "execution_count": 117,
     "metadata": {},
     "output_type": "execute_result"
    }
   ],
   "source": [
    "X_test.columns"
   ]
  },
  {
   "cell_type": "markdown",
   "id": "d73de51d",
   "metadata": {},
   "source": [
    "# save model"
   ]
  },
  {
   "cell_type": "code",
   "execution_count": 120,
   "id": "05fc6e6a",
   "metadata": {},
   "outputs": [],
   "source": [
    "import pickle\n",
    "with open('predictor.pickle', 'wb') as file:\n",
    "    pickle.dump(best_model, file)"
   ]
  },
  {
   "cell_type": "markdown",
   "id": "e596b157",
   "metadata": {},
   "source": [
    "# get a prediction from the model"
   ]
  },
  {
   "cell_type": "code",
   "execution_count": 121,
   "id": "6588210e",
   "metadata": {},
   "outputs": [
    {
     "name": "stderr",
     "output_type": "stream",
     "text": [
      "C:\\Users\\User\\Desktop\\Mini Project\\model\\env\\lib\\site-packages\\sklearn\\base.py:450: UserWarning: X does not have valid feature names, but RandomForestRegressor was fitted with feature names\n",
      "  warnings.warn(\n"
     ]
    },
    {
     "data": {
      "text/plain": [
       "array([1388.6961])"
      ]
     },
     "execution_count": 121,
     "metadata": {},
     "output_type": "execute_result"
    }
   ],
   "source": [
    "pred_value = best_model.predict([[8, 1.3, 1, 1, 0, 1, 0, 1, 0, 0, 0, 0, 0, 0, 0, 1, 0, 0, 1, 0, 0, 1, 0, 0, 0, 0, 1, 0, 1, 0, 0]])\n",
    "pred_value"
   ]
  },
  {
   "cell_type": "code",
   "execution_count": null,
   "id": "ca600c09",
   "metadata": {},
   "outputs": [],
   "source": []
  }
 ],
 "metadata": {
  "kernelspec": {
   "display_name": "Python 3 (ipykernel)",
   "language": "python",
   "name": "python3"
  },
  "language_info": {
   "codemirror_mode": {
    "name": "ipython",
    "version": 3
   },
   "file_extension": ".py",
   "mimetype": "text/x-python",
   "name": "python",
   "nbconvert_exporter": "python",
   "pygments_lexer": "ipython3",
   "version": "3.9.12"
  }
 },
 "nbformat": 4,
 "nbformat_minor": 5
}
